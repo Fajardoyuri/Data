{
  "nbformat": 4,
  "nbformat_minor": 0,
  "metadata": {
    "colab": {
      "provenance": [],
      "toc_visible": true,
      "authorship_tag": "ABX9TyP5gi+UGBbAYwkEMDV0xLT4",
      "include_colab_link": true
    },
    "kernelspec": {
      "name": "python3",
      "display_name": "Python 3"
    },
    "language_info": {
      "name": "python"
    }
  },
  "cells": [
    {
      "cell_type": "markdown",
      "metadata": {
        "id": "view-in-github",
        "colab_type": "text"
      },
      "source": [
        "<a href=\"https://colab.research.google.com/github/Fajardoyuri/Data/blob/main/Data_Visualization.ipynb\" target=\"_parent\"><img src=\"https://colab.research.google.com/assets/colab-badge.svg\" alt=\"Open In Colab\"/></a>"
      ]
    },
    {
      "cell_type": "code",
      "execution_count": null,
      "metadata": {
        "id": "WWf_bx1goYUb"
      },
      "outputs": [],
      "source": []
    },
    {
      "cell_type": "markdown",
      "source": [
        "# Data Visualization\n"
      ],
      "metadata": {
        "id": "I1Dm6BgQobhx"
      }
    },
    {
      "cell_type": "markdown",
      "source": [
        "## subtitle\n"
      ],
      "metadata": {
        "id": "c_P-P6gQp4W3"
      }
    },
    {
      "cell_type": "markdown",
      "source": [
        "# **Title #2**\n",
        "- Use ** at the beginning and the end\n",
        "\n",
        "**Yuri Fajardo**\n",
        "- ## **ITALICTS**\n",
        "Use underscore and * (just one at the begginig and end) in order to put \"cursiva \"\n",
        "\n",
        "_Yuri Fajardo_\n",
        "\n",
        "*Yuri Fajardo*\n",
        "\n",
        "\n"
      ],
      "metadata": {
        "id": "HG5K-K6WqcWZ"
      }
    },
    {
      "cell_type": "markdown",
      "source": [
        "\n",
        "## **Unordered List**\n",
        "\n",
        "**_My hobbies:_**\n",
        "- work out\n",
        "- Go to the park\n",
        "\n"
      ],
      "metadata": {
        "id": "Whvky_GisYjx"
      }
    },
    {
      "cell_type": "markdown",
      "source": [
        "## Ordered List\n",
        "\n",
        "Just numbers\n",
        "\n",
        "_**Top 5:**_\n",
        "1. Tame impala\n",
        "2. dsvnjk\n",
        "3. hasñchd\n"
      ],
      "metadata": {
        "id": "3RpPsgietdcK"
      }
    },
    {
      "cell_type": "markdown",
      "source": [
        "## **Netsed List**\n",
        "\n",
        "_**My daily routine:**_\n",
        "\n",
        "1. Morning\n",
        "\n",
        "    1.1 wake up\n",
        "\n",
        "    1.2 Made my bed\n",
        "\n",
        "\n"
      ],
      "metadata": {
        "id": "xfQHYIust8EF"
      }
    },
    {
      "cell_type": "markdown",
      "source": [
        "## **Links**\n",
        "\n",
        "[_Data Bank_](https://databank.worldbank.org/indicator/NY.GNP.PCAP.CD/1ff4a498/Popular-Indicators)\n",
        "\n",
        "\n",
        "\n",
        "\n"
      ],
      "metadata": {
        "id": "STS9WnOMuzdZ"
      }
    },
    {
      "cell_type": "markdown",
      "source": [],
      "metadata": {
        "id": "rOV9n5SZvRoK"
      }
    },
    {
      "cell_type": "markdown",
      "source": [
        "![signos1.gif](data:image/gif;base64,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)"
      ],
      "metadata": {
        "id": "2Jh89k_Vv_uH"
      }
    },
    {
      "cell_type": "code",
      "source": [
        "Se debe usar el link que aparece en Compartir y luego en incorporar y tomar el link largo\n",
        "\n",
        "%%html\n",
        "<iframe width=\"560\" height=\"315\" src=\"https://www.youtube.com/embed/C_voneJb3v4\" title=\"YouTube video player\" frameborder=\"0\" allow=\"accelerometer; autoplay; clipboard-write; encrypted-media; gyroscope; picture-in-picture; web-share\" allowfullscreen></iframe>"
      ],
      "metadata": {
        "colab": {
          "base_uri": "https://localhost:8080/",
          "height": 337
        },
        "id": "FkVd2cT1yIHz",
        "outputId": "4552a527-1445-40a8-c5ca-3e4e45ce0ff1"
      },
      "execution_count": 5,
      "outputs": [
        {
          "output_type": "display_data",
          "data": {
            "text/plain": [
              "<IPython.core.display.HTML object>"
            ],
            "text/html": [
              "<iframe width=\"560\" height=\"315\" src=\"https://www.youtube.com/embed/C_voneJb3v4\" title=\"YouTube video player\" frameborder=\"0\" allow=\"accelerometer; autoplay; clipboard-write; encrypted-media; gyroscope; picture-in-picture; web-share\" allowfullscreen></iframe>\n"
            ]
          },
          "metadata": {}
        }
      ]
    },
    {
      "cell_type": "markdown",
      "source": [
        "## _A simple table_\n",
        "\n",
        "| _First name_ | _Last name_ |\n",
        "|------------|-----------|\n",
        "| Yuri       | Fajardo   |"
      ],
      "metadata": {
        "id": "bSA7NdutzEq_"
      }
    },
    {
      "cell_type": "markdown",
      "source": [],
      "metadata": {
        "id": "oLQYVvY-0t3R"
      }
    },
    {
      "cell_type": "markdown",
      "source": [
        "## _Equation_\n",
        "\n",
        "For example: **The pytagoras Theories**\n",
        "\n",
        "$a^2+b^2=c^2$\n",
        "\n",
        "$\\begin(equation)\n",
        "\n",
        "$a^2+b^2=c^2$\n",
        "\n",
        "\\end(equation)$\n",
        "\n"
      ],
      "metadata": {
        "id": "I48rc8Gd0vMZ"
      }
    }
  ]
}